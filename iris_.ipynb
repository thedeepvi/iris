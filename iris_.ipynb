{
  "nbformat": 4,
  "nbformat_minor": 0,
  "metadata": {
    "colab": {
      "name": "iris_",
      "provenance": []
    },
    "kernelspec": {
      "display_name": "Python 3",
      "language": "python",
      "name": "python3"
    },
    "language_info": {
      "codemirror_mode": {
        "name": "ipython",
        "version": 3
      },
      "file_extension": ".py",
      "mimetype": "text/x-python",
      "name": "python",
      "nbconvert_exporter": "python",
      "pygments_lexer": "ipython3",
      "version": "3.8.8"
    }
  },
  "cells": [
    {
      "cell_type": "markdown",
      "metadata": {
        "id": "VtwKH5WoGArQ"
      },
      "source": [
        "**Getting the dataset from the url and loading it**"
      ]
    },
    {
      "cell_type": "code",
      "metadata": {
        "id": "S47Zwqqi1PO7"
      },
      "source": [
        "import pandas as pd\n",
        "url='https://raw.githubusercontent.com/mpourhoma/CS4661/master/iris.csv'\n",
        "df = pd.read_csv(url)"
      ],
      "execution_count": 1,
      "outputs": []
    },
    {
      "cell_type": "markdown",
      "metadata": {
        "id": "2SqBVqIPGHyW"
      },
      "source": [
        "# Defining our input and output attributes as x and y respectively"
      ]
    },
    {
      "cell_type": "code",
      "metadata": {
        "id": "c0iQSLt71w3h"
      },
      "source": [
        "X=df.drop(['species'],axis=1)\n",
        "y=df['species']"
      ],
      "execution_count": 2,
      "outputs": []
    },
    {
      "cell_type": "markdown",
      "metadata": {
        "id": "kKCvOnhNGMHn"
      },
      "source": [
        "# Splitting the data in to test and train"
      ]
    },
    {
      "cell_type": "code",
      "metadata": {
        "id": "kuj_oXhu1ztg"
      },
      "source": [
        "from sklearn.model_selection import train_test_split\n",
        "X_train, X_test, y_train, y_test = train_test_split(X,y, test_size=0.4, random_state=6)"
      ],
      "execution_count": 3,
      "outputs": []
    },
    {
      "cell_type": "markdown",
      "metadata": {
        "id": "HM_Rm3VuGPiP"
      },
      "source": [
        "# knn at k=3"
      ]
    },
    {
      "cell_type": "code",
      "metadata": {
        "colab": {
          "base_uri": "https://localhost:8080/"
        },
        "id": "9YEcj6352YQI",
        "outputId": "0d5479d7-2195-4bfd-a766-ed47e63130ba"
      },
      "source": [
        "\n",
        "from sklearn.neighbors import KNeighborsClassifier\n",
        "from sklearn.metrics import accuracy_score\n",
        "KNN_model = KNeighborsClassifier(n_neighbors=3)\n",
        "y_predi = KNN_model.fit(X_train, y_train)\n",
        "y_predi=KNN_model.predict(X_test)\n",
        "a=1-accuracy_score(y_test, y_predi)\n",
        "# Check accuracy score \n",
        "\n",
        "print('ACCURACY  =  : {0:0.4f}'. format(accuracy_score(y_test, y_predi)))\n"
      ],
      "execution_count": 4,
      "outputs": [
        {
          "output_type": "stream",
          "name": "stdout",
          "text": [
            "ACCURACY  =  : 0.9667\n"
          ]
        }
      ]
    },
    {
      "cell_type": "markdown",
      "metadata": {
        "id": "U9d_kuvXGUkm"
      },
      "source": [
        "**# observation:**\n",
        "\n",
        " At k=3 we got 96% testing accuracy "
      ]
    },
    {
      "cell_type": "markdown",
      "metadata": {
        "id": "TJFSOnHWGeT-"
      },
      "source": [
        "**prediction at different values of k**"
      ]
    },
    {
      "cell_type": "code",
      "metadata": {
        "colab": {
          "base_uri": "https://localhost:8080/"
        },
        "id": "woio6JsW2fkv",
        "outputId": "8ae70246-11ed-471d-d558-2a97323c8957"
      },
      "source": [
        "l=[1,5,7,11,15,27,59]\n",
        "for i in l:\n",
        "  KNN_model = KNeighborsClassifier(n_neighbors=i)\n",
        "  y_predi = KNN_model.fit(X_train, y_train)\n",
        "  y_predi=KNN_model.predict(X_test)\n",
        "  a=1-accuracy_score(y_test, y_predi)\n",
        "  # Check accuracy score \n",
        "  print('n_neighbors =',i)\n",
        "  print('ACCURACY  =  : {0:0.4f}'. format(accuracy_score(y_test, y_predi)))\n",
        "  print('----------------------------------------------------------------')\n"
      ],
      "execution_count": 5,
      "outputs": [
        {
          "output_type": "stream",
          "name": "stdout",
          "text": [
            "n_neighbors = 1\n",
            "ACCURACY  =  : 0.9500\n",
            "----------------------------------------------------------------\n",
            "n_neighbors = 5\n",
            "ACCURACY  =  : 0.9833\n",
            "----------------------------------------------------------------\n",
            "n_neighbors = 7\n",
            "ACCURACY  =  : 0.9667\n",
            "----------------------------------------------------------------\n",
            "n_neighbors = 11\n",
            "ACCURACY  =  : 0.9667\n",
            "----------------------------------------------------------------\n",
            "n_neighbors = 15\n",
            "ACCURACY  =  : 0.9333\n",
            "----------------------------------------------------------------\n",
            "n_neighbors = 27\n",
            "ACCURACY  =  : 0.9167\n",
            "----------------------------------------------------------------\n",
            "n_neighbors = 59\n",
            "ACCURACY  =  : 0.8167\n",
            "----------------------------------------------------------------\n"
          ]
        }
      ]
    },
    {
      "cell_type": "markdown",
      "metadata": {
        "id": "FyNXtxlVGi8f"
      },
      "source": [
        "**# Observation:**\n",
        "\n",
        "1:When k=5 we got the best accuracy i.e:98.33%\n",
        "\n",
        "2:when k= 7 or k=11 we got the second best accuracy i.e 96.667%\n",
        "\n",
        "3:When k= 1 we got the third best accuracy i.e 95.33%\n",
        "\n",
        "4:When k= 15 we got the fourth best accuracy i.e 93.33%\n",
        "\n",
        "5:When k=27 we got the fifth best accuracy i.e 91.67%\n",
        "\n",
        "6:Worst accuracy we got is 81.67% when k=59"
      ]
    },
    {
      "cell_type": "markdown",
      "metadata": {
        "id": "Y3eLuWl_3aSQ"
      },
      "source": [
        "**Single feature prediction**"
      ]
    },
    {
      "cell_type": "code",
      "metadata": {
        "id": "I_QSuuDx289R"
      },
      "source": [
        "petal_len=X['petal_length']\n",
        "sepal_len=X['sepal_length']\n",
        "petal_wid=X['petal_width']\n",
        "sepal_wid=X['sepal_width']"
      ],
      "execution_count": 6,
      "outputs": []
    },
    {
      "cell_type": "markdown",
      "metadata": {
        "id": "aZyqs3k74Ahw"
      },
      "source": [
        "**test train split for petal length feature**"
      ]
    },
    {
      "cell_type": "code",
      "metadata": {
        "id": "133L29cu35RA"
      },
      "source": [
        "from sklearn.model_selection import train_test_split\n",
        "X_train, X_test, y_train, y_test = train_test_split(petal_len,y, test_size=0.4, random_state=6)"
      ],
      "execution_count": 7,
      "outputs": []
    },
    {
      "cell_type": "markdown",
      "metadata": {
        "id": "jLp4CIyFGqbJ"
      },
      "source": [
        "**KNN at k=3 for petal_length**"
      ]
    },
    {
      "cell_type": "code",
      "metadata": {
        "colab": {
          "base_uri": "https://localhost:8080/"
        },
        "id": "5jEitP3j4GYv",
        "outputId": "579c4929-fb65-48ad-8a42-4e8cd1172eab"
      },
      "source": [
        "\n",
        "from sklearn.neighbors import KNeighborsClassifier\n",
        "from sklearn.metrics import accuracy_score\n",
        "KNN_model = KNeighborsClassifier(n_neighbors=3)\n",
        "y_predi = KNN_model.fit(X_train.values.reshape(-1,1), y_train)\n",
        "y_predi=KNN_model.predict(X_test.values.reshape(-1,1))\n",
        "a=1-accuracy_score(y_test, y_predi)\n",
        "# Check accuracy score \n",
        "\n",
        "print('ACCURACY  =  : {0:0.4f}'. format(accuracy_score(y_test, y_predi)))\n"
      ],
      "execution_count": 8,
      "outputs": [
        {
          "output_type": "stream",
          "name": "stdout",
          "text": [
            "ACCURACY  =  : 0.9333\n"
          ]
        }
      ]
    },
    {
      "cell_type": "markdown",
      "metadata": {
        "id": "mOdRK7q95Pvo"
      },
      "source": [
        "**test train split for sepal length feature**"
      ]
    },
    {
      "cell_type": "code",
      "metadata": {
        "id": "Y92hSKMT4Mvn"
      },
      "source": [
        "from sklearn.model_selection import train_test_split\n",
        "X_train, X_test, y_train, y_test = train_test_split(sepal_len,y, test_size=0.4, random_state=6)"
      ],
      "execution_count": 9,
      "outputs": []
    },
    {
      "cell_type": "markdown",
      "metadata": {
        "id": "ykbPdH0YG6OI"
      },
      "source": [
        "**KNN at k=3 for sepal_length**"
      ]
    },
    {
      "cell_type": "code",
      "metadata": {
        "colab": {
          "base_uri": "https://localhost:8080/"
        },
        "id": "2NfCETG15VxQ",
        "outputId": "edb2f6f3-24fc-44cc-84e1-167a7369e0d3"
      },
      "source": [
        "\n",
        "from sklearn.neighbors import KNeighborsClassifier\n",
        "from sklearn.metrics import accuracy_score\n",
        "KNN_model = KNeighborsClassifier(n_neighbors=3)\n",
        "y_predi = KNN_model.fit(X_train.values.reshape(-1,1), y_train)\n",
        "y_predi=KNN_model.predict(X_test.values.reshape(-1,1))\n",
        "a=1-accuracy_score(y_test, y_predi)\n",
        "# Check accuracy score \n",
        "\n",
        "print('ACCURACY  =  : {0:0.4f}'. format(accuracy_score(y_test, y_predi)))\n"
      ],
      "execution_count": 10,
      "outputs": [
        {
          "output_type": "stream",
          "name": "stdout",
          "text": [
            "ACCURACY  =  : 0.7167\n"
          ]
        }
      ]
    },
    {
      "cell_type": "markdown",
      "metadata": {
        "id": "LSWzdEub5ano"
      },
      "source": [
        "**test train split for petal_width feature**"
      ]
    },
    {
      "cell_type": "markdown",
      "metadata": {
        "id": "R2Mjb26pG-tO"
      },
      "source": [
        "**KNN at k=3 for petal_width**"
      ]
    },
    {
      "cell_type": "code",
      "metadata": {
        "id": "HxUnpsn25WMn"
      },
      "source": [
        "from sklearn.model_selection import train_test_split\n",
        "X_train, X_test, y_train, y_test = train_test_split(petal_wid,y, test_size=0.4, random_state=6)"
      ],
      "execution_count": 11,
      "outputs": []
    },
    {
      "cell_type": "code",
      "metadata": {
        "colab": {
          "base_uri": "https://localhost:8080/"
        },
        "id": "CpiHLUIi5iUf",
        "outputId": "ae8e4ce5-e55c-41ba-f019-5daa1fe82456"
      },
      "source": [
        "\n",
        "from sklearn.neighbors import KNeighborsClassifier\n",
        "from sklearn.metrics import accuracy_score\n",
        "KNN_model = KNeighborsClassifier(n_neighbors=3)\n",
        "y_predi = KNN_model.fit(X_train.values.reshape(-1,1), y_train)\n",
        "y_predi=KNN_model.predict(X_test.values.reshape(-1,1))\n",
        "a=1-accuracy_score(y_test, y_predi)\n",
        "# Check accuracy score \n",
        "\n",
        "print('ACCURACY  =  : {0:0.4f}'. format(accuracy_score(y_test, y_predi)))\n"
      ],
      "execution_count": 12,
      "outputs": [
        {
          "output_type": "stream",
          "name": "stdout",
          "text": [
            "ACCURACY  =  : 0.9500\n"
          ]
        }
      ]
    },
    {
      "cell_type": "markdown",
      "metadata": {
        "id": "5W_ITcX65lEB"
      },
      "source": [
        "**test train split for sepal_width feature**"
      ]
    },
    {
      "cell_type": "code",
      "metadata": {
        "id": "LDuixspN5jH3"
      },
      "source": [
        "from sklearn.model_selection import train_test_split\n",
        "X_train, X_test, y_train, y_test = train_test_split(sepal_wid,y, test_size=0.4, random_state=6)"
      ],
      "execution_count": 13,
      "outputs": []
    },
    {
      "cell_type": "markdown",
      "metadata": {
        "id": "6JvVcBO1HKE-"
      },
      "source": [
        "**KNN at k=3 for sepal_width**"
      ]
    },
    {
      "cell_type": "code",
      "metadata": {
        "colab": {
          "base_uri": "https://localhost:8080/"
        },
        "id": "-V0tIA9l5r1o",
        "outputId": "054f70de-519e-4f40-e4fc-f3f0190f275c"
      },
      "source": [
        "\n",
        "from sklearn.neighbors import KNeighborsClassifier\n",
        "from sklearn.metrics import accuracy_score\n",
        "KNN_model = KNeighborsClassifier(n_neighbors=3)\n",
        "y_predi = KNN_model.fit(X_train.values.reshape(-1,1), y_train)\n",
        "y_predi=KNN_model.predict(X_test.values.reshape(-1,1))\n",
        "a=1-accuracy_score(y_test, y_predi)\n",
        "# Check accuracy score \n",
        "\n",
        "print('ACCURACY  =  : {0:0.4f}'. format(accuracy_score(y_test, y_predi)))\n"
      ],
      "execution_count": 14,
      "outputs": [
        {
          "output_type": "stream",
          "name": "stdout",
          "text": [
            "ACCURACY  =  : 0.5667\n"
          ]
        }
      ]
    },
    {
      "cell_type": "markdown",
      "metadata": {
        "id": "9uJDKPcKHTg2"
      },
      "source": [
        "**Observation:**\n",
        "\n",
        "1:The best accuracy we got for petal_width feature i.e 95%\n",
        "\n",
        "2:Second best accuracy we got for petal_length feature i.e 93.33%\n",
        "\n",
        "3:third best accuracy we got for sepal_length feature i.e 71.67%\n",
        "\n",
        "4:Worst accuracy we got using sepal_width feature i.e 56.67%"
      ]
    },
    {
      "cell_type": "markdown",
      "metadata": {
        "id": "mPhON-sRIBBG"
      },
      "source": [
        "**Two feature prediction**"
      ]
    },
    {
      "cell_type": "code",
      "metadata": {
        "id": "6PtNGMmo5w6X"
      },
      "source": [
        "one=X[['sepal_length','sepal_width']]\n",
        "two=X[['sepal_length','petal_length']]\n",
        "three=X[['sepal_length','petal_width']]\n",
        "four=X[['sepal_width','petal_length']]\n",
        "five=X[['sepal_width','petal_width']]\n",
        "six=X[['petal_length','petal_width']]\n"
      ],
      "execution_count": 15,
      "outputs": []
    },
    {
      "cell_type": "markdown",
      "metadata": {
        "id": "Ce9R92yB7ufQ"
      },
      "source": [
        "**test train split for sepal length and sepal_width feature**"
      ]
    },
    {
      "cell_type": "code",
      "metadata": {
        "id": "XHWuRjrD7ShA"
      },
      "source": [
        "from sklearn.model_selection import train_test_split\n",
        "X_train, X_test, y_train, y_test = train_test_split(one,y, test_size=0.4, random_state=6)"
      ],
      "execution_count": 16,
      "outputs": []
    },
    {
      "cell_type": "markdown",
      "metadata": {
        "id": "___Q8GGkIGfN"
      },
      "source": [
        "# KNN at k=3 for sepal length and sepal_width"
      ]
    },
    {
      "cell_type": "code",
      "metadata": {
        "colab": {
          "base_uri": "https://localhost:8080/"
        },
        "id": "oJyo6d2273gH",
        "outputId": "89b7efe5-ac32-448c-c2d4-e8766756eb74"
      },
      "source": [
        "\n",
        "from sklearn.neighbors import KNeighborsClassifier\n",
        "from sklearn.metrics import accuracy_score\n",
        "KNN_model = KNeighborsClassifier(n_neighbors=3)\n",
        "y_predi = KNN_model.fit(X_train, y_train)\n",
        "y_predi=KNN_model.predict(X_test)\n",
        "a=1-accuracy_score(y_test, y_predi)\n",
        "# Check accuracy score \n",
        "\n",
        "print('ACCURACY  =  : {0:0.4f}'. format(accuracy_score(y_test, y_predi)))\n"
      ],
      "execution_count": 17,
      "outputs": [
        {
          "output_type": "stream",
          "name": "stdout",
          "text": [
            "ACCURACY  =  : 0.8167\n"
          ]
        }
      ]
    },
    {
      "cell_type": "markdown",
      "metadata": {
        "id": "5fnfAlWm7-GI"
      },
      "source": [
        "**test train split for sepal length and petal length feature**"
      ]
    },
    {
      "cell_type": "markdown",
      "metadata": {
        "id": "K7k5JmcKLQwf"
      },
      "source": [
        "# KNN at k=3 for  sepal length and petal length"
      ]
    },
    {
      "cell_type": "code",
      "metadata": {
        "id": "ycEMcpYf74q3"
      },
      "source": [
        "from sklearn.model_selection import train_test_split\n",
        "X_train, X_test, y_train, y_test = train_test_split(two,y, test_size=0.4, random_state=6)"
      ],
      "execution_count": 18,
      "outputs": []
    },
    {
      "cell_type": "code",
      "metadata": {
        "colab": {
          "base_uri": "https://localhost:8080/"
        },
        "id": "0__9zi188CQn",
        "outputId": "4c689add-b35a-4aad-9809-f5812689c4d0"
      },
      "source": [
        "\n",
        "from sklearn.neighbors import KNeighborsClassifier\n",
        "from sklearn.metrics import accuracy_score\n",
        "KNN_model = KNeighborsClassifier(n_neighbors=3)\n",
        "y_predi = KNN_model.fit(X_train, y_train)\n",
        "y_predi=KNN_model.predict(X_test)\n",
        "a=1-accuracy_score(y_test, y_predi)\n",
        "# Check accuracy score \n",
        "\n",
        "print('ACCURACY  =  : {0:0.4f}'. format(accuracy_score(y_test, y_predi)))\n"
      ],
      "execution_count": 19,
      "outputs": [
        {
          "output_type": "stream",
          "name": "stdout",
          "text": [
            "ACCURACY  =  : 0.9833\n"
          ]
        }
      ]
    },
    {
      "cell_type": "markdown",
      "metadata": {
        "id": "N8spimOD8HD3"
      },
      "source": [
        "**test train split for sepal length and petal width feature**"
      ]
    },
    {
      "cell_type": "markdown",
      "metadata": {
        "id": "JeQOt3wrLQwg"
      },
      "source": [
        "# KNN at k=3 for sepal length and petal width "
      ]
    },
    {
      "cell_type": "code",
      "metadata": {
        "id": "mgSCV8Dj8DIX"
      },
      "source": [
        "from sklearn.model_selection import train_test_split\n",
        "X_train, X_test, y_train, y_test = train_test_split(three,y, test_size=0.4, random_state=6)"
      ],
      "execution_count": 20,
      "outputs": []
    },
    {
      "cell_type": "code",
      "metadata": {
        "colab": {
          "base_uri": "https://localhost:8080/"
        },
        "id": "KS_TnirP8MLv",
        "outputId": "83c5bd28-8cdd-4b38-dcd9-0da95bfa7101"
      },
      "source": [
        "\n",
        "from sklearn.neighbors import KNeighborsClassifier\n",
        "from sklearn.metrics import accuracy_score\n",
        "KNN_model = KNeighborsClassifier(n_neighbors=3)\n",
        "y_predi = KNN_model.fit(X_train, y_train)\n",
        "y_predi=KNN_model.predict(X_test)\n",
        "a=1-accuracy_score(y_test, y_predi)\n",
        "# Check accuracy score \n",
        "\n",
        "print('ACCURACY  =  : {0:0.4f}'. format(accuracy_score(y_test, y_predi)))\n"
      ],
      "execution_count": 21,
      "outputs": [
        {
          "output_type": "stream",
          "name": "stdout",
          "text": [
            "ACCURACY  =  : 0.9500\n"
          ]
        }
      ]
    },
    {
      "cell_type": "markdown",
      "metadata": {
        "id": "i7UFDc_s8RZH"
      },
      "source": [
        "**test train split for sepal width and petal length feature**"
      ]
    },
    {
      "cell_type": "code",
      "metadata": {
        "id": "CCSS_0qe8NIv"
      },
      "source": [
        "from sklearn.model_selection import train_test_split\n",
        "X_train, X_test, y_train, y_test = train_test_split(four,y, test_size=0.4, random_state=6)"
      ],
      "execution_count": 22,
      "outputs": []
    },
    {
      "cell_type": "markdown",
      "metadata": {
        "id": "Gqgc_q5tLQwh"
      },
      "source": [
        "# KNN at k=3 for  sepal width and petal length "
      ]
    },
    {
      "cell_type": "code",
      "metadata": {
        "colab": {
          "base_uri": "https://localhost:8080/"
        },
        "id": "qnK94ysn-QjG",
        "outputId": "886bcb69-1285-40b9-a688-6248f1be8398"
      },
      "source": [
        "\n",
        "from sklearn.neighbors import KNeighborsClassifier\n",
        "from sklearn.metrics import accuracy_score\n",
        "KNN_model = KNeighborsClassifier(n_neighbors=3)\n",
        "y_predi = KNN_model.fit(X_train, y_train)\n",
        "y_predi=KNN_model.predict(X_test)\n",
        "a=1-accuracy_score(y_test, y_predi)\n",
        "# Check accuracy score \n",
        "\n",
        "print('ACCURACY  =  : {0:0.4f}'. format(accuracy_score(y_test, y_predi)))\n"
      ],
      "execution_count": 23,
      "outputs": [
        {
          "output_type": "stream",
          "name": "stdout",
          "text": [
            "ACCURACY  =  : 0.9500\n"
          ]
        }
      ]
    },
    {
      "cell_type": "markdown",
      "metadata": {
        "id": "4tHYHVyB-TWH"
      },
      "source": [
        "**test train split for sepal width and petal width feature**"
      ]
    },
    {
      "cell_type": "code",
      "metadata": {
        "id": "IxeH4mnK-RcW"
      },
      "source": [
        "from sklearn.model_selection import train_test_split\n",
        "X_train, X_test, y_train, y_test = train_test_split(five,y, test_size=0.4, random_state=6)"
      ],
      "execution_count": 24,
      "outputs": []
    },
    {
      "cell_type": "markdown",
      "metadata": {
        "id": "PUkuUbTjLQwh"
      },
      "source": [
        "# KNN at k=3 for sepal width and petal width"
      ]
    },
    {
      "cell_type": "code",
      "metadata": {
        "colab": {
          "base_uri": "https://localhost:8080/"
        },
        "id": "xnisf0t5-YsO",
        "outputId": "be9cdb5e-d5d2-4d64-8555-20f2b179d1c9"
      },
      "source": [
        "\n",
        "from sklearn.neighbors import KNeighborsClassifier\n",
        "from sklearn.metrics import accuracy_score\n",
        "KNN_model = KNeighborsClassifier(n_neighbors=3)\n",
        "y_predi = KNN_model.fit(X_train, y_train)\n",
        "y_predi=KNN_model.predict(X_test)\n",
        "a=1-accuracy_score(y_test, y_predi)\n",
        "# Check accuracy score \n",
        "\n",
        "print('ACCURACY  =  : {0:0.4f}'. format(accuracy_score(y_test, y_predi)))\n"
      ],
      "execution_count": 25,
      "outputs": [
        {
          "output_type": "stream",
          "name": "stdout",
          "text": [
            "ACCURACY  =  : 0.9500\n"
          ]
        }
      ]
    },
    {
      "cell_type": "markdown",
      "metadata": {
        "id": "iZkoPJcK-eOn"
      },
      "source": [
        "**test train split for petal length and petal_width feature**"
      ]
    },
    {
      "cell_type": "code",
      "metadata": {
        "id": "Z7lw69I1-Z-2"
      },
      "source": [
        "from sklearn.model_selection import train_test_split\n",
        "X_train, X_test, y_train, y_test = train_test_split(six,y, test_size=0.4, random_state=6)"
      ],
      "execution_count": 26,
      "outputs": []
    },
    {
      "cell_type": "markdown",
      "metadata": {
        "id": "eOMJCUV5LQwi"
      },
      "source": [
        "# KNN at k=3 for petal length and petal width"
      ]
    },
    {
      "cell_type": "code",
      "metadata": {
        "colab": {
          "base_uri": "https://localhost:8080/"
        },
        "id": "75LIO3Ky-sLX",
        "outputId": "fa91dc79-a25f-45ec-88d2-9caf9e379a66"
      },
      "source": [
        "\n",
        "from sklearn.neighbors import KNeighborsClassifier\n",
        "from sklearn.metrics import accuracy_score\n",
        "KNN_model = KNeighborsClassifier(n_neighbors=3)\n",
        "y_predi = KNN_model.fit(X_train, y_train)\n",
        "y_predi=KNN_model.predict(X_test)\n",
        "a=1-accuracy_score(y_test, y_predi)\n",
        "# Check accuracy score \n",
        "\n",
        "print('ACCURACY  =  : {0:0.4f}'. format(accuracy_score(y_test, y_predi)))\n"
      ],
      "execution_count": 27,
      "outputs": [
        {
          "output_type": "stream",
          "name": "stdout",
          "text": [
            "ACCURACY  =  : 0.9667\n"
          ]
        }
      ]
    },
    {
      "cell_type": "markdown",
      "metadata": {
        "id": "qh1ahN4c-tDY"
      },
      "source": [
        "# Observation:\n",
        "\n",
        "1:The first best accuracy we got with features sepal length and petal length i.e 98.33%\n",
        "\n",
        "2:Second best accuracy we got with features petal length and petal width i.e 96.67%\n",
        "\n",
        "3:third best accuracy we got with features sepal width and petal width i.e 95%\n",
        "\n",
        "4:fourth best accuracy we got with features sepal width and petal length i.e 95%   \n",
        "\n",
        "5:fifth best accuracy we got with features sepal length and petal width i.e 95%\n",
        "\n",
        "6:Worst accuracy we got using features sepal length and sepal_width i.e 81.67%"
      ]
    },
    {
      "cell_type": "code",
      "metadata": {
        "id": "w3QKQhXHLQwi"
      },
      "source": [
        ""
      ],
      "execution_count": null,
      "outputs": []
    }
  ]
}